{
 "cells": [
  {
   "cell_type": "code",
   "execution_count": 1,
   "metadata": {
    "executionInfo": {
     "elapsed": 2797,
     "status": "ok",
     "timestamp": 1618409900718,
     "user": {
      "displayName": "Temirlan Ashimov",
      "photoUrl": "https://lh3.googleusercontent.com/a-/AOh14GgNv2KyoaNq5FWfXF6jYir6xwlw1oLGNWuLML8r=s64",
      "userId": "10339978957264185119"
     },
     "user_tz": -360
    },
    "id": "fZr4f6wqEw99"
   },
   "outputs": [],
   "source": [
    "import pandas as pd\n",
    "import numpy as np\n",
    "import matplotlib.pyplot as plt\n",
    "import seaborn as sns; sns.set()\n",
    "from sklearn.preprocessing import StandardScaler\n",
    "from sklearn.model_selection import train_test_split\n",
    "from sklearn.metrics import r2_score\n",
    "import tensorflow as tf\n",
    "from tensorflow.keras import *\n",
    "import itertools\n",
    "from tqdm import tqdm\n",
    "#from google.colab import files"
   ]
  },
  {
   "cell_type": "code",
   "execution_count": 2,
   "metadata": {
    "colab": {
     "base_uri": "https://localhost:8080/",
     "height": 35
    },
    "executionInfo": {
     "elapsed": 2789,
     "status": "ok",
     "timestamp": 1618409900720,
     "user": {
      "displayName": "Temirlan Ashimov",
      "photoUrl": "https://lh3.googleusercontent.com/a-/AOh14GgNv2KyoaNq5FWfXF6jYir6xwlw1oLGNWuLML8r=s64",
      "userId": "10339978957264185119"
     },
     "user_tz": -360
    },
    "id": "A9AUQ3jIKz_R",
    "outputId": "6cb13cc7-547f-4f2c-c8fe-e1c99155e4f3"
   },
   "outputs": [
    {
     "data": {
      "text/plain": [
       "'2.4.1'"
      ]
     },
     "execution_count": 2,
     "metadata": {},
     "output_type": "execute_result"
    }
   ],
   "source": [
    "tf.__version__"
   ]
  },
  {
   "cell_type": "markdown",
   "metadata": {
    "id": "5pSccxybGyvr"
   },
   "source": [
    "# **Reading Data**"
   ]
  },
  {
   "cell_type": "code",
   "execution_count": 3,
   "metadata": {
    "executionInfo": {
     "elapsed": 4260,
     "status": "ok",
     "timestamp": 1618409902203,
     "user": {
      "displayName": "Temirlan Ashimov",
      "photoUrl": "https://lh3.googleusercontent.com/a-/AOh14GgNv2KyoaNq5FWfXF6jYir6xwlw1oLGNWuLML8r=s64",
      "userId": "10339978957264185119"
     },
     "user_tz": -360
    },
    "id": "HC9JfxndFx5R"
   },
   "outputs": [],
   "source": [
    "players = pd.read_excel('players (extension).xlsx', index_col = 0)"
   ]
  },
  {
   "cell_type": "code",
   "execution_count": 4,
   "metadata": {
    "colab": {
     "base_uri": "https://localhost:8080/",
     "height": 617
    },
    "executionInfo": {
     "elapsed": 4250,
     "status": "ok",
     "timestamp": 1618409902204,
     "user": {
      "displayName": "Temirlan Ashimov",
      "photoUrl": "https://lh3.googleusercontent.com/a-/AOh14GgNv2KyoaNq5FWfXF6jYir6xwlw1oLGNWuLML8r=s64",
      "userId": "10339978957264185119"
     },
     "user_tz": -360
    },
    "id": "AGUhWqDWGD8S",
    "outputId": "d0240612-ebad-47a4-a993-965e8ccf6782"
   },
   "outputs": [
    {
     "data": {
      "text/html": [
       "<div>\n",
       "<style scoped>\n",
       "    .dataframe tbody tr th:only-of-type {\n",
       "        vertical-align: middle;\n",
       "    }\n",
       "\n",
       "    .dataframe tbody tr th {\n",
       "        vertical-align: top;\n",
       "    }\n",
       "\n",
       "    .dataframe thead th {\n",
       "        text-align: right;\n",
       "    }\n",
       "</style>\n",
       "<table border=\"1\" class=\"dataframe\">\n",
       "  <thead>\n",
       "    <tr style=\"text-align: right;\">\n",
       "      <th></th>\n",
       "      <th>Name</th>\n",
       "      <th>Country</th>\n",
       "      <th>Current Rating</th>\n",
       "      <th>Potential Rating</th>\n",
       "      <th>Height (cm)</th>\n",
       "      <th>Weight (kg)</th>\n",
       "      <th>Preferred Foot</th>\n",
       "      <th>Birth Date</th>\n",
       "      <th>Age</th>\n",
       "      <th>Preferred Positions</th>\n",
       "      <th>...</th>\n",
       "      <th>FK Acc.</th>\n",
       "      <th>Penalties</th>\n",
       "      <th>Volleys</th>\n",
       "      <th>GK Positioning</th>\n",
       "      <th>GK Diving</th>\n",
       "      <th>GK Handling</th>\n",
       "      <th>GK Kicking</th>\n",
       "      <th>GK Reflexes</th>\n",
       "      <th>Specialities</th>\n",
       "      <th>Traits</th>\n",
       "    </tr>\n",
       "  </thead>\n",
       "  <tbody>\n",
       "    <tr>\n",
       "      <th>0</th>\n",
       "      <td>Lionel Messi</td>\n",
       "      <td>Argentina</td>\n",
       "      <td>94</td>\n",
       "      <td>94</td>\n",
       "      <td>170</td>\n",
       "      <td>72</td>\n",
       "      <td>Left</td>\n",
       "      <td>June 24, 1987</td>\n",
       "      <td>33</td>\n",
       "      <td>RW ST CF</td>\n",
       "      <td>...</td>\n",
       "      <td>94</td>\n",
       "      <td>75</td>\n",
       "      <td>88</td>\n",
       "      <td>14</td>\n",
       "      <td>6</td>\n",
       "      <td>11</td>\n",
       "      <td>15</td>\n",
       "      <td>8</td>\n",
       "      <td>Dribbler, Distance Shooter, Crosser, FK Specia...</td>\n",
       "      <td>Finesse Shot, Long Shot Taker (CPU AI Only), S...</td>\n",
       "    </tr>\n",
       "    <tr>\n",
       "      <th>1</th>\n",
       "      <td>Cristiano Ronaldo</td>\n",
       "      <td>Portugal</td>\n",
       "      <td>93</td>\n",
       "      <td>93</td>\n",
       "      <td>187</td>\n",
       "      <td>83</td>\n",
       "      <td>Right</td>\n",
       "      <td>Feb. 5, 1985</td>\n",
       "      <td>35</td>\n",
       "      <td>ST LW</td>\n",
       "      <td>...</td>\n",
       "      <td>76</td>\n",
       "      <td>85</td>\n",
       "      <td>87</td>\n",
       "      <td>14</td>\n",
       "      <td>7</td>\n",
       "      <td>11</td>\n",
       "      <td>15</td>\n",
       "      <td>11</td>\n",
       "      <td>Dribbler, Distance Shooter, Acrobat, Clinical ...</td>\n",
       "      <td>Power Free-Kick, Flair, Long Shot Taker (CPU A...</td>\n",
       "    </tr>\n",
       "    <tr>\n",
       "      <th>2</th>\n",
       "      <td>Neymar Jr</td>\n",
       "      <td>Brazil</td>\n",
       "      <td>92</td>\n",
       "      <td>92</td>\n",
       "      <td>175</td>\n",
       "      <td>68</td>\n",
       "      <td>Right</td>\n",
       "      <td>Feb. 5, 1992</td>\n",
       "      <td>28</td>\n",
       "      <td>LW CAM</td>\n",
       "      <td>...</td>\n",
       "      <td>89</td>\n",
       "      <td>92</td>\n",
       "      <td>87</td>\n",
       "      <td>15</td>\n",
       "      <td>9</td>\n",
       "      <td>9</td>\n",
       "      <td>15</td>\n",
       "      <td>11</td>\n",
       "      <td>Speedster, Dribbler, Playmaker, Crosser, FK Sp...</td>\n",
       "      <td>Injury Prone, Flair, Speed Dribbler (CPU AI On...</td>\n",
       "    </tr>\n",
       "    <tr>\n",
       "      <th>3</th>\n",
       "      <td>Virgil van Dijk</td>\n",
       "      <td>Netherlands</td>\n",
       "      <td>91</td>\n",
       "      <td>92</td>\n",
       "      <td>193</td>\n",
       "      <td>92</td>\n",
       "      <td>Right</td>\n",
       "      <td>July 8, 1991</td>\n",
       "      <td>29</td>\n",
       "      <td>CB</td>\n",
       "      <td>...</td>\n",
       "      <td>70</td>\n",
       "      <td>62</td>\n",
       "      <td>45</td>\n",
       "      <td>11</td>\n",
       "      <td>13</td>\n",
       "      <td>10</td>\n",
       "      <td>13</td>\n",
       "      <td>11</td>\n",
       "      <td>Tackling, Tactician, Strength, Complete Defender</td>\n",
       "      <td>Leadership, Long Passer (CPU AI Only), Power H...</td>\n",
       "    </tr>\n",
       "    <tr>\n",
       "      <th>4</th>\n",
       "      <td>Jan Oblak</td>\n",
       "      <td>Slovenia</td>\n",
       "      <td>91</td>\n",
       "      <td>93</td>\n",
       "      <td>188</td>\n",
       "      <td>87</td>\n",
       "      <td>Right</td>\n",
       "      <td>Jan. 7, 1993</td>\n",
       "      <td>27</td>\n",
       "      <td>GK</td>\n",
       "      <td>...</td>\n",
       "      <td>14</td>\n",
       "      <td>11</td>\n",
       "      <td>13</td>\n",
       "      <td>90</td>\n",
       "      <td>87</td>\n",
       "      <td>92</td>\n",
       "      <td>78</td>\n",
       "      <td>89</td>\n",
       "      <td>No</td>\n",
       "      <td>GK Long Throw, Comes For Crosses</td>\n",
       "    </tr>\n",
       "  </tbody>\n",
       "</table>\n",
       "<p>5 rows × 57 columns</p>\n",
       "</div>"
      ],
      "text/plain": [
       "                Name      Country  Current Rating  Potential Rating  \\\n",
       "0       Lionel Messi    Argentina              94                94   \n",
       "1  Cristiano Ronaldo     Portugal              93                93   \n",
       "2          Neymar Jr       Brazil              92                92   \n",
       "3    Virgil van Dijk  Netherlands              91                92   \n",
       "4          Jan Oblak     Slovenia              91                93   \n",
       "\n",
       "   Height (cm)  Weight (kg) Preferred Foot     Birth Date  Age  \\\n",
       "0          170           72           Left  June 24, 1987   33   \n",
       "1          187           83          Right   Feb. 5, 1985   35   \n",
       "2          175           68          Right   Feb. 5, 1992   28   \n",
       "3          193           92          Right   July 8, 1991   29   \n",
       "4          188           87          Right   Jan. 7, 1993   27   \n",
       "\n",
       "  Preferred Positions  ... FK Acc.  Penalties  Volleys  GK Positioning  \\\n",
       "0            RW ST CF  ...      94         75       88              14   \n",
       "1               ST LW  ...      76         85       87              14   \n",
       "2              LW CAM  ...      89         92       87              15   \n",
       "3                  CB  ...      70         62       45              11   \n",
       "4                  GK  ...      14         11       13              90   \n",
       "\n",
       "   GK Diving GK Handling GK Kicking  GK Reflexes  \\\n",
       "0          6          11         15            8   \n",
       "1          7          11         15           11   \n",
       "2          9           9         15           11   \n",
       "3         13          10         13           11   \n",
       "4         87          92         78           89   \n",
       "\n",
       "                                        Specialities  \\\n",
       "0  Dribbler, Distance Shooter, Crosser, FK Specia...   \n",
       "1  Dribbler, Distance Shooter, Acrobat, Clinical ...   \n",
       "2  Speedster, Dribbler, Playmaker, Crosser, FK Sp...   \n",
       "3   Tackling, Tactician, Strength, Complete Defender   \n",
       "4                                                 No   \n",
       "\n",
       "                                              Traits  \n",
       "0  Finesse Shot, Long Shot Taker (CPU AI Only), S...  \n",
       "1  Power Free-Kick, Flair, Long Shot Taker (CPU A...  \n",
       "2  Injury Prone, Flair, Speed Dribbler (CPU AI On...  \n",
       "3  Leadership, Long Passer (CPU AI Only), Power H...  \n",
       "4                   GK Long Throw, Comes For Crosses  \n",
       "\n",
       "[5 rows x 57 columns]"
      ]
     },
     "execution_count": 4,
     "metadata": {},
     "output_type": "execute_result"
    }
   ],
   "source": [
    "players.head()"
   ]
  },
  {
   "cell_type": "code",
   "execution_count": 5,
   "metadata": {
    "colab": {
     "base_uri": "https://localhost:8080/"
    },
    "executionInfo": {
     "elapsed": 4241,
     "status": "ok",
     "timestamp": 1618409902205,
     "user": {
      "displayName": "Temirlan Ashimov",
      "photoUrl": "https://lh3.googleusercontent.com/a-/AOh14GgNv2KyoaNq5FWfXF6jYir6xwlw1oLGNWuLML8r=s64",
      "userId": "10339978957264185119"
     },
     "user_tz": -360
    },
    "id": "Oix62LXiGxC5",
    "outputId": "f4be2638-8dbd-412e-999d-3709ff6d3238"
   },
   "outputs": [
    {
     "name": "stdout",
     "output_type": "stream",
     "text": [
      "<class 'pandas.core.frame.DataFrame'>\n",
      "Int64Index: 2940 entries, 0 to 2939\n",
      "Data columns (total 57 columns):\n",
      " #   Column               Non-Null Count  Dtype \n",
      "---  ------               --------------  ----- \n",
      " 0   Name                 2940 non-null   object\n",
      " 1   Country              2940 non-null   object\n",
      " 2   Current Rating       2940 non-null   int64 \n",
      " 3   Potential Rating     2940 non-null   int64 \n",
      " 4   Height (cm)          2940 non-null   int64 \n",
      " 5   Weight (kg)          2940 non-null   int64 \n",
      " 6   Preferred Foot       2940 non-null   object\n",
      " 7   Birth Date           2940 non-null   object\n",
      " 8   Age                  2940 non-null   int64 \n",
      " 9   Preferred Positions  2940 non-null   object\n",
      " 10  Player Work Rate     2940 non-null   object\n",
      " 11  Weak Foot            2940 non-null   int64 \n",
      " 12  Skill Moves          2940 non-null   int64 \n",
      " 13  Value (€)            2940 non-null   int64 \n",
      " 14  Wage (€)             2940 non-null   int64 \n",
      " 15  Team                 2940 non-null   object\n",
      " 16  Position             2940 non-null   object\n",
      " 17  Kit Number           2940 non-null   int64 \n",
      " 18  On loan from         2940 non-null   object\n",
      " 19  Joined Club          2940 non-null   object\n",
      " 20  Contract Length      2940 non-null   int64 \n",
      " 21  Ball Control         2940 non-null   int64 \n",
      " 22  Dribbling            2940 non-null   int64 \n",
      " 23  Marking              2940 non-null   int64 \n",
      " 24  Slide Tackle         2940 non-null   int64 \n",
      " 25  Stand Tackle         2940 non-null   int64 \n",
      " 26  Aggression           2940 non-null   int64 \n",
      " 27  Reactions            2940 non-null   int64 \n",
      " 28  Att. Position        2940 non-null   int64 \n",
      " 29  Interceptions        2940 non-null   int64 \n",
      " 30  Vision               2940 non-null   int64 \n",
      " 31  Composure            2940 non-null   int64 \n",
      " 32  Crossing             2940 non-null   int64 \n",
      " 33  Short Pass           2940 non-null   int64 \n",
      " 34  Long Pass            2940 non-null   int64 \n",
      " 35  Acceleration         2940 non-null   int64 \n",
      " 36  Stamina              2940 non-null   int64 \n",
      " 37  Strength             2940 non-null   int64 \n",
      " 38  Balance              2940 non-null   int64 \n",
      " 39  Sprint Speed         2940 non-null   int64 \n",
      " 40  Agility              2940 non-null   int64 \n",
      " 41  Jumping              2940 non-null   int64 \n",
      " 42  Heading              2940 non-null   int64 \n",
      " 43  Shot Power           2940 non-null   int64 \n",
      " 44  Finishing            2940 non-null   int64 \n",
      " 45  Long Shots           2940 non-null   int64 \n",
      " 46  Curve                2940 non-null   int64 \n",
      " 47  FK Acc.              2940 non-null   int64 \n",
      " 48  Penalties            2940 non-null   int64 \n",
      " 49  Volleys              2940 non-null   int64 \n",
      " 50  GK Positioning       2940 non-null   int64 \n",
      " 51  GK Diving            2940 non-null   int64 \n",
      " 52  GK Handling          2940 non-null   int64 \n",
      " 53  GK Kicking           2940 non-null   int64 \n",
      " 54  GK Reflexes          2940 non-null   int64 \n",
      " 55  Specialities         2940 non-null   object\n",
      " 56  Traits               2940 non-null   object\n",
      "dtypes: int64(45), object(12)\n",
      "memory usage: 1.3+ MB\n"
     ]
    }
   ],
   "source": [
    "players.info()"
   ]
  },
  {
   "cell_type": "markdown",
   "metadata": {
    "id": "mW6ds2EGHAF1"
   },
   "source": [
    "# **Preprocessing**"
   ]
  },
  {
   "cell_type": "code",
   "execution_count": 6,
   "metadata": {
    "executionInfo": {
     "elapsed": 4235,
     "status": "ok",
     "timestamp": 1618409902206,
     "user": {
      "displayName": "Temirlan Ashimov",
      "photoUrl": "https://lh3.googleusercontent.com/a-/AOh14GgNv2KyoaNq5FWfXF6jYir6xwlw1oLGNWuLML8r=s64",
      "userId": "10339978957264185119"
     },
     "user_tz": -360
    },
    "id": "zS-lS957G3pb"
   },
   "outputs": [],
   "source": [
    "# creating X-matrix and Y-vector\n",
    "x = players.loc[:, ['Current Rating',\t'Potential Rating',\t'Height (cm)',\t'Weight (kg)', 'Age', 'Weak Foot',\t'Skill Moves', 'Wage (€)', 'Contract Length',\n",
    "                    'Ball Control', 'Dribbling', 'Marking', 'Slide Tackle', 'Stand Tackle', 'Aggression', 'Reactions', 'Att. Position', 'Interceptions',\n",
    "                    'Vision',\t'Composure', 'Crossing', 'Short Pass', 'Long Pass',\t'Acceleration',\t'Stamina', 'Strength',\t'Balance', 'Sprint Speed', 'Agility',\n",
    "                    'Jumping', 'Heading', 'Shot Power',\t'Finishing', 'Long Shots', 'Curve',\t'FK Acc.', 'Penalties', 'Volleys', 'GK Positioning', 'GK Diving',\n",
    "                    'GK Handling', 'GK Kicking', 'GK Reflexes']].values.copy()\n",
    "y = players.loc[:, 'Value (€)'].values.copy()"
   ]
  },
  {
   "cell_type": "code",
   "execution_count": 7,
   "metadata": {
    "executionInfo": {
     "elapsed": 4231,
     "status": "ok",
     "timestamp": 1618409902207,
     "user": {
      "displayName": "Temirlan Ashimov",
      "photoUrl": "https://lh3.googleusercontent.com/a-/AOh14GgNv2KyoaNq5FWfXF6jYir6xwlw1oLGNWuLML8r=s64",
      "userId": "10339978957264185119"
     },
     "user_tz": -360
    },
    "id": "mx57C9CBqERx"
   },
   "outputs": [],
   "source": [
    "# normalization of the matrix X\n",
    "scaler = StandardScaler().fit(x)\n",
    "x_scaled = scaler.transform(x)"
   ]
  },
  {
   "cell_type": "code",
   "execution_count": 8,
   "metadata": {
    "colab": {
     "base_uri": "https://localhost:8080/",
     "height": 410
    },
    "executionInfo": {
     "elapsed": 4964,
     "status": "ok",
     "timestamp": 1618409902945,
     "user": {
      "displayName": "Temirlan Ashimov",
      "photoUrl": "https://lh3.googleusercontent.com/a-/AOh14GgNv2KyoaNq5FWfXF6jYir6xwlw1oLGNWuLML8r=s64",
      "userId": "10339978957264185119"
     },
     "user_tz": -360
    },
    "id": "Uk4Uc7W3Dcmo",
    "outputId": "e2907bcf-1315-420e-e737-aa1ae1862a30"
   },
   "outputs": [
    {
     "data": {
      "image/png": "[encoded data removed]",
      "text/plain": [
       "<Figure size 720x360 with 1 Axes>"
      ]
     },
     "metadata": {},
     "output_type": "display_data"
    }
   ],
   "source": [
    "plt.figure(figsize = (10, 5))\n",
    "sns.distplot(a = players['Value (€)'])\n",
    "plt.title('The distribution of \"Value (€)\"')\n",
    "plt.show()"
   ]
  },
  {
   "cell_type": "code",
   "execution_count": 9,
   "metadata": {
    "executionInfo": {
     "elapsed": 4957,
     "status": "ok",
     "timestamp": 1618409902946,
     "user": {
      "displayName": "Temirlan Ashimov",
      "photoUrl": "https://lh3.googleusercontent.com/a-/AOh14GgNv2KyoaNq5FWfXF6jYir6xwlw1oLGNWuLML8r=s64",
      "userId": "10339978957264185119"
     },
     "user_tz": -360
    },
    "id": "Lgt3HNGnS8Ft"
   },
   "outputs": [],
   "source": [
    "# normalization of the vector Y\n",
    "y = y / 1000000"
   ]
  },
  {
   "cell_type": "markdown",
   "metadata": {
    "id": "5Y81UDcKICWw"
   },
   "source": [
    "# **Modeling**"
   ]
  },
  {
   "cell_type": "code",
   "execution_count": 10,
   "metadata": {
    "executionInfo": {
     "elapsed": 5235,
     "status": "ok",
     "timestamp": 1618409903229,
     "user": {
      "displayName": "Temirlan Ashimov",
      "photoUrl": "https://lh3.googleusercontent.com/a-/AOh14GgNv2KyoaNq5FWfXF6jYir6xwlw1oLGNWuLML8r=s64",
      "userId": "10339978957264185119"
     },
     "user_tz": -360
    },
    "id": "So21QLOda7Qm"
   },
   "outputs": [],
   "source": [
    "# train, validation and test splits\n",
    "x_train, x_val_test, y_train, y_val_test = train_test_split(x_scaled, y, test_size = 0.2, random_state = 42)\n",
    "x_val, x_test, y_val, y_test = train_test_split(x_val_test, y_val_test, test_size = 0.5, random_state = 42)\n",
    "# conver to tensor\n",
    "## train data\n",
    "tensor_x_train = tf.convert_to_tensor(value = x_train, dtype = tf.float32)\n",
    "tensor_y_train = tf.convert_to_tensor(value = y_train, dtype = tf.float32)\n",
    "## validation data\n",
    "tensor_x_val = tf.convert_to_tensor(value = x_val, dtype = tf.float32)\n",
    "tensor_y_val = tf.convert_to_tensor(value = y_val, dtype = tf.float32)\n",
    "## test data\n",
    "tensor_x_test = tf.convert_to_tensor(value = x_test, dtype = tf.float32)\n",
    "tensor_y_test = tf.convert_to_tensor(value = y_test, dtype = tf.float32)"
   ]
  },
  {
   "cell_type": "code",
   "execution_count": 26,
   "metadata": {},
   "outputs": [
    {
     "data": {
      "text/plain": [
       "<tensorflow.python.keras.callbacks.History at 0x244979cde20>"
      ]
     },
     "execution_count": 26,
     "metadata": {},
     "output_type": "execute_result"
    }
   ],
   "source": [
    "neurons = [20, 20]\n",
    "activation = 'relu'\n",
    "batch_size = 256\n",
    "epochs = 100\n",
    "\n",
    "# model\n",
    "model = Sequential()\n",
    "## layers\n",
    "model.add(layers.Input(shape = tensor_x_train.shape[1], ))\n",
    "for neuron in neurons:\n",
    "    if activation == 'tanh':\n",
    "        model.add(layers.Dense(neuron, activation = activation, kernel_initializer = initializers.HeNormal()))\n",
    "    elif activation == 'relu':\n",
    "        model.add(layers.Dense(neuron, activation = activation, kernel_initializer = initializers.GlorotNormal()))\n",
    "    else:\n",
    "        raise Exception('\"activation\" must be either relu or tanh')\n",
    "model.add(layers.Dense(1, activation = 'relu'))\n",
    "## compile model\n",
    "model.compile(optimizer = 'adam', loss = 'mse')\n",
    "## train model\n",
    "model.fit(tensor_x_train, tensor_y_train, batch_size = batch_size, epochs = epochs, verbose = 0)"
   ]
  },
  {
   "cell_type": "code",
   "execution_count": 27,
   "metadata": {},
   "outputs": [
    {
     "name": "stdout",
     "output_type": "stream",
     "text": [
      "rsquare for train set: 0.9295874640317424\n",
      "rsquare for val set: 0.9162209316891452\n",
      "rsquare for test set: 0.9516569460295479\n"
     ]
    }
   ],
   "source": [
    "print('rsquare for train set:', r2_score(model.predict(tensor_x_train), tensor_y_train))\n",
    "print('rsquare for val set:', r2_score(model.predict(tensor_x_val), tensor_y_val))\n",
    "print('rsquare for test set:', r2_score(model.predict(tensor_x_test), tensor_y_test))"
   ]
  }
 ],
 "metadata": {
  "accelerator": "GPU",
  "colab": {
   "collapsed_sections": [],
   "name": "mtc_1.ipynb",
   "provenance": [],
   "toc_visible": true
  },
  "kernelspec": {
   "display_name": "Python 3",
   "language": "python",
   "name": "python3"
  },
  "language_info": {
   "codemirror_mode": {
    "name": "ipython",
    "version": 3
   },
   "file_extension": ".py",
   "mimetype": "text/x-python",
   "name": "python",
   "nbconvert_exporter": "python",
   "pygments_lexer": "ipython3",
   "version": "3.8.3"
  }
 },
 "nbformat": 4,
 "nbformat_minor": 1
}
